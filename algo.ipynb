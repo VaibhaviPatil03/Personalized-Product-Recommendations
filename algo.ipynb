{
  "cells": [
    {
      "cell_type": "code",
      "execution_count": null,
      "metadata": {
        "id": "GVu5F3We8E-t"
      },
      "outputs": [],
      "source": [
        "#making the interaction matrix"
      ]
    },
    {
      "cell_type": "code",
      "execution_count": null,
      "metadata": {
        "id": "RnEpr858-uok"
      },
      "outputs": [],
      "source": [
        "import math\n",
        "\n",
        "def clicks(count):\n",
        "    x = 1 - math.exp(-count)\n",
        "    return x\n",
        "\n",
        "def cart_additions(cart_status):\n",
        "    return 1 if cart_status else 0\n",
        "\n",
        "def purchased(count):\n",
        "    x = 1- math.exp(-count)\n",
        "    return x\n",
        "\n",
        "def ratings(user_rating):\n",
        "    x = (user_rating - 1) / 4  # Map 1-5 scale to 0-1 scale\n",
        "    return x"
      ]
    },
    {
      "cell_type": "code",
      "execution_count": null,
      "metadata": {
        "colab": {
          "base_uri": "https://localhost:8080/"
        },
        "id": "tCOGVUf3-4ot",
        "outputId": "232e49bf-ddfc-4c53-f5e7-f9012118dd73"
      },
      "outputs": [
        {
          "name": "stdout",
          "output_type": "stream",
          "text": [
            "Clicks Matrix:\n",
            "[1, 2, 3, 4, 5, 6, 7]\n",
            "[2, 3, 4, 5, 6, 7, 8]\n",
            "[3, 4, 5, 6, 7, 8, 9]\n",
            "[4, 5, 6, 7, 8, 9, 10]\n",
            "[5, 6, 7, 8, 9, 10, 11]\n",
            "[6, 7, 8, 9, 10, 11, 12]\n",
            "[7, 8, 9, 10, 11, 12, 13]\n",
            "[8, 9, 10, 11, 12, 13, 14]\n",
            "Purchased Matrix:\n",
            "[0, 0, 1, 1, 0, 0, 1]\n",
            "[1, 0, 1, 0, 1, 0, 1]\n",
            "[0, 1, 0, 1, 0, 1, 0]\n",
            "[1, 0, 1, 0, 1, 0, 1]\n",
            "[0, 1, 0, 1, 0, 1, 0]\n",
            "[1, 0, 1, 0, 1, 0, 1]\n",
            "[0, 1, 0, 1, 0, 1, 0]\n",
            "[1, 0, 1, 0, 1, 0, 1]\n",
            "Cart Additions Matrix:\n",
            "[1, 1, 0, 0, 1, 1, 0]\n",
            "[0, 1, 1, 1, 0, 0, 1]\n",
            "[1, 0, 1, 1, 0, 1, 0]\n",
            "[0, 1, 0, 1, 0, 1, 0]\n",
            "[1, 0, 1, 0, 1, 0, 1]\n",
            "[0, 1, 0, 1, 0, 1, 0]\n",
            "[1, 1, 0, 1, 1, 0, 0]\n",
            "[0, 0, 1, 0, 1, 0, 1]\n",
            "Ratings Matrix:\n",
            "[3, 4, 5, 2, 4, 3, 5]\n",
            "[2, 3, 4, 1, 3, 2, 4]\n",
            "[4, 5, 2, 3, 5, 4, 2]\n",
            "[1, 2, 3, 4, 1, 2, 3]\n",
            "[5, 4, 1, 5, 4, 1, 5]\n",
            "[3, 2, 4, 3, 2, 4, 3]\n",
            "[1, 3, 5, 2, 4, 1, 3]\n",
            "[4, 2, 4, 3, 2, 4, 2]\n"
          ]
        }
      ],
      "source": [
        "# Predefined matrices\n",
        "clicks_matrix = [\n",
        "    [1, 2, 3, 4, 5, 6, 7],\n",
        "    [2, 3, 4, 5, 6, 7, 8],\n",
        "    [3, 4, 5, 6, 7, 8, 9],\n",
        "    [4, 5, 6, 7, 8, 9, 10],\n",
        "    [5, 6, 7, 8, 9, 10, 11],\n",
        "    [6, 7, 8, 9, 10, 11, 12],\n",
        "    [7, 8, 9, 10, 11, 12, 13],\n",
        "    [8, 9, 10, 11, 12, 13, 14]\n",
        "]\n",
        "\n",
        "purchased_matrix = [\n",
        "    [0, 0, 1, 1, 0, 0, 1],\n",
        "    [1, 0, 1, 0, 1, 0, 1],\n",
        "    [0, 1, 0, 1, 0, 1, 0],\n",
        "    [1, 0, 1, 0, 1, 0, 1],\n",
        "    [0, 1, 0, 1, 0, 1, 0],\n",
        "    [1, 0, 1, 0, 1, 0, 1],\n",
        "    [0, 1, 0, 1, 0, 1, 0],\n",
        "    [1, 0, 1, 0, 1, 0, 1]\n",
        "]\n",
        "\n",
        "cart_additions_matrix = [\n",
        "    [1, 1, 0, 0, 1, 1, 0],\n",
        "    [0, 1, 1, 1, 0, 0, 1],\n",
        "    [1, 0, 1, 1, 0, 1, 0],\n",
        "    [0, 1, 0, 1, 0, 1, 0],\n",
        "    [1, 0, 1, 0, 1, 0, 1],\n",
        "    [0, 1, 0, 1, 0, 1, 0],\n",
        "    [1, 1, 0, 1, 1, 0, 0],\n",
        "    [0, 0, 1, 0, 1, 0, 1]\n",
        "]\n",
        "\n",
        "ratings_matrix = [\n",
        "    [3, 4, 5, 2, 4, 3, 5],\n",
        "    [2, 3, 4, 1, 3, 2, 4],\n",
        "    [4, 5, 2, 3, 5, 4, 2],\n",
        "    [1, 2, 3, 4, 1, 2, 3],\n",
        "    [5, 4, 1, 5, 4, 1, 5],\n",
        "    [3, 2, 4, 3, 2, 4, 3],\n",
        "    [1, 3, 5, 2, 4, 1, 3],\n",
        "    [4, 2, 4, 3, 2, 4, 2]\n",
        "]\n",
        "\n",
        "# Print the matrices\n",
        "print(\"Clicks Matrix:\")\n",
        "for row in clicks_matrix:\n",
        "    print(row)\n",
        "\n",
        "print(\"Purchased Matrix:\")\n",
        "for row in purchased_matrix:\n",
        "    print(row)\n",
        "\n",
        "print(\"Cart Additions Matrix:\")\n",
        "for row in cart_additions_matrix:\n",
        "    print(row)\n",
        "\n",
        "print(\"Ratings Matrix:\")\n",
        "for row in ratings_matrix:\n",
        "    print(row)\n"
      ]
    },
    {
      "cell_type": "code",
      "execution_count": null,
      "metadata": {
        "colab": {
          "base_uri": "https://localhost:8080/"
        },
        "id": "4gSOINGWHGVw",
        "outputId": "9a58259b-bc47-4950-f8dd-8c58365634b4"
      },
      "outputs": [
        {
          "name": "stdout",
          "output_type": "stream",
          "text": [
            "Main Matrix:\n",
            "[2.1321205588285577, 2.614664716763387, 2.5823334904606936, 1.8638049199398234, 2.7432620530009144, 2.4975212478233337, 2.631208676863003]\n",
            "[1.7467852755919449, 2.450212931632136, 3.3638049199398234, 1.9932620530009144, 2.1296418066518914, 1.2490881180344455, 3.3817850962006553]\n",
            "[2.700212931632136, 2.6138049199398234, 2.2432620530009144, 3.1296418066518914, 1.9990881180344455, 3.3817850962006553, 1.2498765901959135]\n",
            "[1.6138049199398234, 2.2432620530009144, 2.1296418066518914, 2.7490881180344457, 1.6317850962006553, 2.2498765901959135, 2.132075158898795]\n",
            "[2.9932620530009144, 2.3796418066518914, 1.9990881180344455, 2.6317850962006553, 2.7498765901959135, 1.6320751588987952, 2.9999832982992096]\n",
            "[2.1296418066518914, 2.2490881180344457, 2.3817850962006553, 2.4998765901959135, 1.8820751588987952, 2.7499832982992096, 2.132114414616204]\n",
            "[1.9990881180344455, 3.1317850962006553, 1.9998765901959135, 2.882075158898795, 2.7499832982992096, 1.6321144146162043, 1.499997739670593]\n",
            "[2.3817850962006553, 1.2498765901959135, 3.382075158898795, 1.4999832982992096, 2.882114414616204, 1.749997739670593, 2.8821197272998385]\n"
          ]
        }
      ],
      "source": [
        "\n",
        "def create_matrix(rows, cols):\n",
        "    matrix = [[0 for _ in range(cols)] for _ in range(rows)]\n",
        "    return matrix\n",
        "\n",
        "# Replace N and M with the actual number of users and products\n",
        "N = 8  # Number of users\n",
        "M = 7  # Number of products\n",
        "\n",
        "interaction_matrix = create_matrix(N, M)\n",
        "#print(interaction_matrix)\n",
        "\n",
        "\n",
        "for i in range(N):\n",
        "    for j in range(M):\n",
        "        interaction_matrix[i][j] = clicks(clicks_matrix[i][j]) + purchased(purchased_matrix[i][j]) + cart_additions(cart_additions_matrix[i][j]) + ratings(ratings_matrix[i][j])\n",
        "\n",
        "# Print the final 'matrix'\n",
        "print(\"Main Matrix:\")\n",
        "for row in interaction_matrix:\n",
        "    print(row)"
      ]
    },
    {
      "cell_type": "code",
      "execution_count": null,
      "metadata": {
        "colab": {
          "base_uri": "https://localhost:8080/"
        },
        "id": "ek1eF48lKFw9",
        "outputId": "20057f7f-1939-450d-8acd-3116c9d7c557"
      },
      "outputs": [
        {
          "name": "stdout",
          "output_type": "stream",
          "text": [
            "Average of each column:\n",
            "[2.21208759 2.36654203 2.5102334  2.40618963 2.34597832 2.14280521\n",
            " 2.36364509]\n"
          ]
        }
      ],
      "source": [
        "# Convert the matrix to a NumPy array\n",
        "matrix_array = np.array(interaction_matrix)\n",
        "\n",
        "# Calculate the average of each column\n",
        "column_averages = np.mean(matrix_array, axis=0)\n",
        "\n",
        "# Print the column averages\n",
        "print(\"Average of each column:\")\n",
        "print(column_averages)"
      ]
    },
    {
      "cell_type": "code",
      "execution_count": null,
      "metadata": {
        "id": "CaxNQ73oLVVX"
      },
      "outputs": [],
      "source": [
        "#Applying SVD algorithm"
      ]
    },
    {
      "cell_type": "code",
      "execution_count": null,
      "metadata": {
        "colab": {
          "base_uri": "https://localhost:8080/"
        },
        "id": "XfznN1hcLoVE",
        "outputId": "da2bb161-d43c-4c77-bee8-d2084f8f6b00"
      },
      "outputs": [
        {
          "name": "stdout",
          "output_type": "stream",
          "text": [
            "U:\n",
            "[[-0.36802474 -0.08715843  0.0991787  -0.04841155 -0.34665221  0.82257243\n",
            "   0.02905749]\n",
            " [-0.35584176 -0.48191662 -0.16079383  0.59558721  0.03830997 -0.13872929\n",
            "  -0.48587076]\n",
            " [-0.3710555   0.58501661  0.35899539 -0.11456373 -0.02405052 -0.23546469\n",
            "  -0.46049257]\n",
            " [-0.31852982  0.17716425  0.03495868  0.43831604  0.30382485 -0.08832128\n",
            "   0.67571016]\n",
            " [-0.37516343 -0.10830465 -0.39629602 -0.50863225  0.64229198  0.10534561\n",
            "  -0.08628509]\n",
            " [-0.3448638   0.1793707   0.30654611  0.15608725  0.16031432  0.12220214\n",
            "   0.03742904]\n",
            " [-0.344036    0.26312211 -0.64593773 -0.05505559 -0.53434047 -0.23384909\n",
            "   0.13908676]\n",
            " [-0.34749332 -0.52286823  0.40737271 -0.38933956 -0.24842953 -0.40021002\n",
            "   0.25740332]]\n",
            "\n",
            "Singular Values:\n",
            "[17.51784736  3.0661243   1.72537312  1.41237531  1.07507512  0.77152879\n",
            "  0.39338097]\n",
            "\n",
            "Vt:\n",
            "[[-0.35934995 -0.38239379 -0.40488583 -0.38785517 -0.38002786 -0.34624079\n",
            "  -0.38206618]\n",
            " [ 0.05753078  0.27202816 -0.38744666  0.43452717 -0.17952121  0.45278468\n",
            "  -0.58865973]\n",
            " [ 0.05910173 -0.51308355  0.35868723 -0.25690115 -0.23803381  0.69226886\n",
            "  -0.05197374]\n",
            " [-0.6317655   0.35273113  0.34195562  0.17861298 -0.53571784  0.0351677\n",
            "   0.19846029]\n",
            " [ 0.33230083 -0.26861027 -0.38714288  0.34298294 -0.50150542 -0.03107635\n",
            "   0.54537543]\n",
            " [-0.14512772  0.37613403 -0.49040157 -0.53747072  0.08995244  0.40446287\n",
            "   0.36933861]\n",
            " [-0.57745239 -0.42246113 -0.22358237  0.39540059  0.46914618  0.17341991\n",
            "   0.1776852 ]]\n"
          ]
        }
      ],
      "source": [
        "import numpy as np\n",
        "\n",
        "# Perform Singular Value Decomposition\n",
        "U, S, Vt = np.linalg.svd(interaction_matrix, full_matrices=False)\n",
        "\n",
        "# U: Left singular vectors\n",
        "# S: Singular values\n",
        "# Vt: Transpose of right singular vectors\n",
        "\n",
        "# Print the decomposed matrices\n",
        "print(\"U:\")\n",
        "print(U)\n",
        "print(\"\\nSingular Values:\")\n",
        "print(S)\n",
        "print(\"\\nVt:\")\n",
        "print(Vt)\n",
        "\n",
        "\n"
      ]
    },
    {
      "cell_type": "code",
      "execution_count": null,
      "metadata": {
        "colab": {
          "base_uri": "https://localhost:8080/"
        },
        "id": "ORDFebo5MhA_",
        "outputId": "3981b565-d6bc-4b5b-bab0-54720b7b215e"
      },
      "outputs": [
        {
          "name": "stdout",
          "output_type": "stream",
          "text": [
            "Ranking Matrix:\n",
            "[-6.89083915 -6.41648197 -8.06136853 -5.54345384 -8.66023815 -3.08614168\n",
            " -7.36608167]\n"
          ]
        }
      ],
      "source": [
        "import numpy as np\n",
        "\n",
        "# Perform matrix multiplication\n",
        "Ranking_matrix = np.dot(S, Vt)\n",
        "\n",
        "# Print the resulting matrix\n",
        "print(\"Ranking Matrix:\")\n",
        "print(Ranking_matrix)"
      ]
    },
    {
      "cell_type": "code",
      "execution_count": null,
      "metadata": {
        "id": "DTHJJnVOMmm8"
      },
      "outputs": [],
      "source": [
        "# Through SVD separately on each of the four matrix\n",
        "# SVD on ratings matrix"
      ]
    },
    {
      "cell_type": "code",
      "execution_count": null,
      "metadata": {
        "id": "Xl7RI65gR255"
      },
      "outputs": [],
      "source": [
        "# USER SPECIFIC"
      ]
    },
    {
      "cell_type": "code",
      "execution_count": null,
      "metadata": {
        "id": "KiLE7p1JXuIS"
      },
      "outputs": [],
      "source": [
        "# Categry wise product clustering\n",
        "# Clustering of Price range for LOW/MID/HIGH budget products\n",
        "# CLustering of Quantity sold for identifying Best sellers/ decent sales/ least sold\n",
        "# Clustering of Ratings for Highest and Lowest rated\n"
      ]
    },
    {
      "cell_type": "code",
      "source": [
        "import pandas as pd\n",
        "\n",
        "# List of file names\n",
        "file_names = [\n",
        "    \"mobilesdata.xlsx\", \"laptopsdata.xlsx\", \"watchesdata.xlsx\", \"shoesdata.xlsx\",\n",
        "    \"tshirtsdata.xlsx\", \"shirtsdata.xlsx\", \"trousersdata.xlsx\", \"pantsdata.xlsx\",\n",
        "    \"jacketsdata.xlsx\", \"kurtisdata.xlsx\", \"sareesdata.xlsx\", \"refrigeratorsdata.xlsx\",\n",
        "    \"ACdata.xlsx\", \"TVdata.xlsx\"\n",
        "]\n",
        "\n",
        "# Dictionary to store product data\n",
        "product_data_dict = {}\n",
        "\n",
        "# Loop through each file name and read data into the dictionary\n",
        "for file_name in file_names:\n",
        "    category = file_name.split(\"data\")[0]  # Extract the category name\n",
        "    data = pd.read_excel(file_name)\n",
        "    product_data_dict[category] = data\n"
      ],
      "metadata": {
        "id": "SyFudM2mVD4p"
      },
      "execution_count": null,
      "outputs": []
    },
    {
      "cell_type": "code",
      "execution_count": null,
      "metadata": {
        "id": "Fsfzz223U_Ac"
      },
      "outputs": [],
      "source": [
        "# Search history\n",
        "# inputs - keywords and frequency\n",
        "import pandas as pd\n",
        "\n",
        "# Read the search history data from the Excel file\n",
        "search_history_data = pd.read_excel(\"search_history.xlsx\")\n",
        "\n",
        "# Get unique user IDs and categories\n",
        "unique_user_ids = search_history_data[\"User ID\"].unique()\n",
        "unique_categories = search_history_data[\"Category\"].unique()\n",
        "\n",
        "# User input for user ID and category\n",
        "user_id = int(input(\"Enter the user ID: \"))\n",
        "category = input(\"Enter the category: \")\n",
        "\n",
        "# Filter data based on user ID and category\n",
        "filtered_data = search_history_data[\n",
        "    (search_history_data[\"User ID\"] == user_id) &\n",
        "    (search_history_data[\"Category\"] == category)\n",
        "]\n",
        "\n",
        "# Dictionary to store keywords and their frequency\n",
        "keyword_frequency_dict = {}\n",
        "\n",
        "if not filtered_data.empty:\n",
        "    # Store keywords and their frequency in the dictionary\n",
        "    for _, row in filtered_data.iterrows():\n",
        "        keyword = row[\"Keyword\"]\n",
        "        frequency = row[\"Frequency\"]\n",
        "        keyword_frequency_dict[keyword] = frequency\n",
        "\n",
        "    # Sort the dictionary by frequency\n",
        "    sorted_keywords = sorted(keyword_frequency_dict.items(), key=lambda x: x[1], reverse=True)\n",
        "else:\n",
        "    print(\"No data found for the given user and category.\")\n",
        "\n",
        "# Iterate through each product in the given category\n",
        "for product_id, product_row in product_data_dict[category].iterrows():\n",
        "    product_tags = product_row[\"Tags\"]  # Assuming 'Tags' is the column containing product tags\n",
        "    frequency_sum = 0  # Initialize frequency sum for this product\n",
        "\n",
        "    # Match product tags with keyword-frequency dictionary\n",
        "    for tag in product_tags.split(','):\n",
        "        tag = tag.strip()  # Remove whitespace\n",
        "        if tag in keyword_frequency_dict:\n",
        "            frequency_sum += keyword_frequency_dict[tag]\n",
        "\n",
        "    # Add frequency sum to the product data dictionary\n",
        "    product_data_dict[category].loc[product_id, \"KeywordFrequency\"] = frequency_sum\n",
        "\n",
        "# Sort products within the category by keyword frequency\n",
        "sorted_products = product_data_dict[category].sort_values(by=\"KeywordFrequency\", ascending=False)\n",
        "sorted_product_ids = sorted_products.index.tolist()\n",
        "\n",
        "# Print the sorted product IDs\n",
        "print(\"Sorted Product IDs within the category:\")\n",
        "print(sorted_product_ids)\n"
      ]
    },
    {
      "cell_type": "code",
      "execution_count": null,
      "metadata": {
        "id": "qAzPvA4WVPaa"
      },
      "outputs": [],
      "source": [
        "import pandas as pd\n",
        "\n",
        "# Load the Excel file\n",
        "file_path = 'data.xlsx'\n",
        "df = pd.read_excel(file_path)\n",
        "\n",
        "# Display the loaded data\n",
        "print(df)\n",
        "\n",
        "# List of file names\n",
        "file_names = [\n",
        "    \"mobilesdata.xlsx\", \"laptopsdata.xlsx\", \"watchesdata.xlsx\", \"shoesdata.xlsx\",\n",
        "    \"tshirtsdata.xlsx\", \"shirtsdata.xlsx\", \"trousersdata.xlsx\", \"pantsdata.xlsx\",\n",
        "    \"jacketsdata.xlsx\", \"kurtisdata.xlsx\", \"sareesdata.xlsx\", \"refrigeratorsdata.xlsx\",\n",
        "    \"ACdata.xlsx\", \"TVdata.xlsx\"\n",
        "]\n",
        "\n",
        "# Dictionary to store product data\n",
        "product_data_dict = {}\n",
        "\n",
        "# Loop through each file name and read data into the dictionary\n",
        "for file_name in file_names:\n",
        "    category = file_name.split(\"data\")[0]  # Extract the category name\n",
        "    data = pd.read_excel(file_name)\n",
        "    product_data_dict[category] = data\n",
        "\n",
        "# Dictionary to store sorted product IDs for each tag\n",
        "sorted_product_ids = {'range tag': {}, 'ratings tag': {}, 'bestseller tag': {}}\n",
        "\n",
        "# Iterate through each category and sort product IDs for each tag\n",
        "for category, data in product_data_dict.items():\n",
        "    for tag in sorted_product_ids.keys():\n",
        "        sorted_ids = data.sort_values(by=tag)['user id'].tolist()\n",
        "        sorted_product_ids[tag][category] = sorted_ids\n",
        "\n",
        "# Display the sorted product IDs for each tag and category\n",
        "for tag, categories in sorted_product_ids.items():\n",
        "    print(f\"Sorted Product IDs based on {tag}:\")\n",
        "    for category, ids in categories.items():\n",
        "        print(f\"Category: {category}, Product IDs: {ids}\")\n",
        "\n",
        "# Read tag weightage values from data.xlsx\n",
        "range_weight = df.at[0, 'Range Weight']\n",
        "ratings_weight = df.at[0, 'Ratings Weight']\n",
        "bestseller_weight = df.at[0, 'Best Sellers Weight']\n",
        "\n",
        "# Merge the product lists based on weightage\n",
        "merged_product_ids = {}\n",
        "for category in product_data_dict.keys():\n",
        "    range_ids = sorted_product_ids['range tag'][category]\n",
        "    ratings_ids = sorted_product_ids['ratings tag'][category]\n",
        "    bestseller_ids = sorted_product_ids['bestseller tag'][category]\n",
        "\n",
        "    # Calculate the weighted sum of product IDs\n",
        "    weighted_ids = (\n",
        "        range_weight * range_ids +\n",
        "        ratings_weight * ratings_ids +\n",
        "        bestseller_weight * bestseller_ids\n",
        "    )\n",
        "\n",
        "    # Remove duplicates while preserving order\n",
        "    merged_ids = []\n",
        "    seen = set()\n",
        "    for id in weighted_ids:\n",
        "        if id not in seen:\n",
        "            seen.add(id)\n",
        "            merged_ids.append(id)\n",
        "\n",
        "    merged_product_ids[category] = merged_ids\n",
        "\n",
        "# Display the merged product IDs for each category\n",
        "for category, ids in merged_product_ids.items():\n",
        "    print(f\"Merged Product IDs for {category}: {ids}\")\n"
      ]
    },
    {
      "cell_type": "code",
      "execution_count": null,
      "metadata": {
        "id": "LTcatyUJVZDq"
      },
      "outputs": [],
      "source": [
        "# Wishlist products\n",
        "# Inputs - Range, Ratings and Best Sellers, and Tag matching\n",
        "\n",
        "#part 1 -\n",
        "\n",
        "import pandas as pd\n",
        "\n",
        "# Load the Excel file\n",
        "file_path = 'data.xlsx'\n",
        "df = pd.read_excel(file_path)\n",
        "\n",
        "# Display the loaded data\n",
        "print(df)\n",
        "\n",
        "# List of file names\n",
        "file_names = [\n",
        "    \"mobilesdata.xlsx\", \"laptopsdata.xlsx\", \"watchesdata.xlsx\", \"shoesdata.xlsx\",\n",
        "    \"tshirtsdata.xlsx\", \"shirtsdata.xlsx\", \"trousersdata.xlsx\", \"pantsdata.xlsx\",\n",
        "    \"jacketsdata.xlsx\", \"kurtisdata.xlsx\", \"sareesdata.xlsx\", \"refrigeratorsdata.xlsx\",\n",
        "    \"ACdata.xlsx\", \"TVdata.xlsx\"\n",
        "]\n",
        "\n",
        "# Dictionary to store product data\n",
        "product_data_dict = {}\n",
        "\n",
        "# Loop through each file name and read data into the dictionary\n",
        "for file_name in file_names:\n",
        "    category = file_name.split(\"data\")[0]  # Extract the category name\n",
        "    data = pd.read_excel(file_name)\n",
        "    product_data_dict[category] = data\n",
        "\n",
        "# Dictionary to store sorted product IDs for each tag\n",
        "sorted_product_ids = {'range tag': {}, 'ratings tag': {}, 'bestseller tag': {}}\n",
        "\n",
        "# Iterate through each category and sort product IDs for each tag\n",
        "for category, data in product_data_dict.items():\n",
        "    for tag in sorted_product_ids.keys():\n",
        "        sorted_ids = data.sort_values(by=tag)['user id'].tolist()\n",
        "        sorted_product_ids[tag][category] = sorted_ids\n",
        "\n",
        "# Display the sorted product IDs for each tag and category\n",
        "for tag, categories in sorted_product_ids.items():\n",
        "    print(f\"Sorted Product IDs based on {tag}:\")\n",
        "    for category, ids in categories.items():\n",
        "        print(f\"Category: {category}, Product IDs: {ids}\")\n",
        "\n",
        "# Read tag weightage values from data.xlsx\n",
        "range_weight = df.at[0, 'Range Weight']\n",
        "ratings_weight = df.at[0, 'Ratings Weight']\n",
        "bestseller_weight = df.at[0, 'Best Sellers Weight']\n",
        "\n",
        "# Merge the product lists based on weightage\n",
        "merged_product_ids = {}\n",
        "for category in product_data_dict.keys():\n",
        "    range_ids = sorted_product_ids['range tag'][category]\n",
        "    ratings_ids = sorted_product_ids['ratings tag'][category]\n",
        "    bestseller_ids = sorted_product_ids['bestseller tag'][category]\n",
        "\n",
        "    # Calculate the weighted sum of product IDs\n",
        "    weighted_ids = (\n",
        "        range_weight * range_ids +\n",
        "        ratings_weight * ratings_ids +\n",
        "        bestseller_weight * bestseller_ids\n",
        "    )\n",
        "\n",
        "    # Remove duplicates while preserving order\n",
        "    merged_ids = []\n",
        "    seen = set()\n",
        "    for id in weighted_ids:\n",
        "        if id not in seen:\n",
        "            seen.add(id)\n",
        "            merged_ids.append(id)\n",
        "\n",
        "    merged_product_ids[category] = merged_ids\n",
        "\n",
        "# Display the merged product IDs for each category\n",
        "for category, ids in merged_product_ids.items():\n",
        "    print(f\"Merged Product IDs for {category}: {ids}\")\n",
        "\n",
        "\n",
        "\n",
        "\n",
        "#part 2 -\n",
        "\n",
        "#Matching wishlist tags\n",
        "\n",
        "tags_data = pd.read_excel('tagsdata.xlsx')\n",
        "\n",
        "# Dictionary to store sorted product IDs based on keywords and frequencies\n",
        "keyword_sorted_product_ids = {}\n",
        "\n",
        "# Iterate through each category in tagsdata.xlsx\n",
        "for index, row in tags_data.iterrows():\n",
        "    category = row['Category']\n",
        "    keyword = row['Keyword']\n",
        "    frequency = row['Frequency']\n",
        "\n",
        "    # Filter products in the category containing the keyword\n",
        "    filtered_products = product_data_dict[category][product_data_dict[category]['tags'].str.contains(keyword)]\n",
        "\n",
        "    # Sort the filtered products by frequency\n",
        "    sorted_product_ids = filtered_products.sort_values(by='tags', key=lambda x: x.str.contains(keyword), ascending=False)['user id'].tolist()\n",
        "\n",
        "    # Store the sorted product IDs\n",
        "    keyword_sorted_product_ids[category] = sorted_product_ids\n",
        "\n",
        "# Display the sorted product IDs for each category based on keywords and frequencies\n",
        "for category, ids in keyword_sorted_product_ids.items():\n",
        "    print(f\"Sorted Product IDs for {category} based on Keywords and Frequencies: {ids}\")\n",
        "\n"
      ]
    }
  ],
  "metadata": {
    "colab": {
      "provenance": []
    },
    "kernelspec": {
      "display_name": "Python 3",
      "name": "python3"
    },
    "language_info": {
      "name": "python"
    }
  },
  "nbformat": 4,
  "nbformat_minor": 0
}